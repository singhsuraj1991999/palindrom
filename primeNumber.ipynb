{
 "cells": [
  {
   "cell_type": "code",
   "execution_count": 5,
   "metadata": {},
   "outputs": [],
   "source": [
    "#print prime numbers between 1 to given number\n",
    "def prime_number(num):\n",
    "    count=0\n",
    "    if num>1:\n",
    "        for i in range(num):\n",
    "            if i>1:\n",
    "                for j in range(2,i):\n",
    "                    if i%j==0:\n",
    "                        break\n",
    "                else:\n",
    "                    print(i)\n",
    "                    count+=1\n",
    "        print(\"the number of prime number is\",count)\n",
    "    \n",
    "    \n",
    "    \n"
   ]
  },
  {
   "cell_type": "code",
   "execution_count": 6,
   "metadata": {},
   "outputs": [
    {
     "name": "stdout",
     "output_type": "stream",
     "text": [
      "enter the number:100\n",
      "2\n",
      "3\n",
      "5\n",
      "7\n",
      "11\n",
      "13\n",
      "17\n",
      "19\n",
      "23\n",
      "29\n",
      "31\n",
      "37\n",
      "41\n",
      "43\n",
      "47\n",
      "53\n",
      "59\n",
      "61\n",
      "67\n",
      "71\n",
      "73\n",
      "79\n",
      "83\n",
      "89\n",
      "97\n",
      "the number of prime number is 25\n"
     ]
    }
   ],
   "source": [
    "if __name__==\"__main__\":\n",
    "    num=int(input(\"enter the number:\"))\n",
    "    prime_number(num)"
   ]
  },
  {
   "cell_type": "code",
   "execution_count": 7,
   "metadata": {},
   "outputs": [
    {
     "name": "stdout",
     "output_type": "stream",
     "text": [
      "enter the string:suraj\n",
      "jarus\n"
     ]
    }
   ],
   "source": [
    "#reverse the string\n",
    "def reverse(string):\n",
    "    if len(string)>1:\n",
    "        print(string[::-1])\n",
    "    \n",
    "    \n",
    "if __name__==\"__main__\":\n",
    "    string=input(\"enter the string:\")\n",
    "    reverse(string)"
   ]
  },
  {
   "cell_type": "code",
   "execution_count": 8,
   "metadata": {},
   "outputs": [
    {
     "name": "stdout",
     "output_type": "stream",
     "text": [
      "enter the string:suraj\n",
      "enter the first character:s\n",
      "enter the changing charcter:f\n",
      "furaj\n"
     ]
    }
   ],
   "source": [
    "#replace the charcter of the string \n",
    "def replace(string,choose,change):\n",
    "    string=string.replace(choose,change)\n",
    "    print(string)\n",
    "    \n",
    "if __name__==\"__main__\":\n",
    "    string=input(\"enter the string:\")\n",
    "    choose=input(\"enter the first character:\")\n",
    "    change=input(\"enter the changing charcter:\")\n",
    "    replace(string,choose,change)"
   ]
  },
  {
   "cell_type": "code",
   "execution_count": 10,
   "metadata": {},
   "outputs": [
    {
     "name": "stdout",
     "output_type": "stream",
     "text": [
      "enter the string:suraj\n",
      "string is not palindrom\n"
     ]
    }
   ],
   "source": [
    "#check that the given string is palindrom or not\n",
    "def palindrom(string):\n",
    "    if string==string[::-1]:\n",
    "        print(\"string is palindrom\")\n",
    "    else:\n",
    "        print(\"string is not palindrom\")\n",
    "if __name__==\"__main__\":\n",
    "    string=input(\"enter the string:\")\n",
    "    palindrom(string)"
   ]
  },
  {
   "cell_type": "code",
   "execution_count": 44,
   "metadata": {},
   "outputs": [
    {
     "name": "stdout",
     "output_type": "stream",
     "text": [
      "enter the string:110111\n",
      "6\n",
      "3\n",
      "['1', '1', '0', '1', '1', '1']\n",
      "['1', '0', '1', '1']\n",
      "['0', '1']\n",
      "list is not palindrom\n"
     ]
    }
   ],
   "source": [
    "#using array check the string is palindrom or not\n",
    "def palindrom_string(string):\n",
    "    length=len(string)\n",
    "    print(length)\n",
    "    mid=length//2\n",
    "    print(mid)\n",
    "    arr=[]\n",
    "    for i in range(len(string)):\n",
    "        \n",
    "        arr.append(string[i])\n",
    "    print(arr)\n",
    "    i=0\n",
    "    for j in range(len(arr)):\n",
    "        \n",
    "        if len(arr)>1:\n",
    "            if arr[i]==arr[-(i+1)]:\n",
    "                \n",
    "                del arr[0]\n",
    "                del arr[-1]\n",
    "                print(arr)\n",
    "            else:\n",
    "                print(\"list is not palindrom\")\n",
    "                break\n",
    "    else:\n",
    "        print(\"list is palindrom\")\n",
    "\n",
    "        \n",
    "    \n",
    "if __name__==\"__main__\":\n",
    "    string=input(\"enter the string:\")\n",
    "    palindrom_string(string)"
   ]
  },
  {
   "cell_type": "code",
   "execution_count": null,
   "metadata": {},
   "outputs": [],
   "source": []
  },
  {
   "cell_type": "code",
   "execution_count": null,
   "metadata": {},
   "outputs": [],
   "source": []
  },
  {
   "cell_type": "code",
   "execution_count": null,
   "metadata": {},
   "outputs": [],
   "source": []
  }
 ],
 "metadata": {
  "kernelspec": {
   "display_name": "Python 3.6.5 64-bit",
   "language": "python",
   "name": "python36564bit9ca43e19d61f43e69ab9c0e8a5177f38"
  },
  "language_info": {
   "codemirror_mode": {
    "name": "ipython",
    "version": 3
   },
   "file_extension": ".py",
   "mimetype": "text/x-python",
   "name": "python",
   "nbconvert_exporter": "python",
   "pygments_lexer": "ipython3",
   "version": "3.6.5"
  }
 },
 "nbformat": 4,
 "nbformat_minor": 2
}
